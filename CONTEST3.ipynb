{
 "cells": [
  {
   "cell_type": "markdown",
   "id": "fefa4f34",
   "metadata": {},
   "source": [
    "# 문제정의"
   ]
  },
  {
   "cell_type": "code",
   "execution_count": 49,
   "id": "c3152b07",
   "metadata": {
    "ExecuteTime": {
     "end_time": "2023-04-16T11:59:01.627895Z",
     "start_time": "2023-04-16T11:59:01.611393Z"
    }
   },
   "outputs": [],
   "source": [
    "import pandas as pd\n",
    "import seaborn as sns\n",
    "import matplotlib.pyplot as plt\n",
    "import matplotlib\n",
    "import numpy as np\n",
    "import warnings\n",
    "warnings.filterwarnings(\"ignore\")\n",
    "from tqdm.auto import tqdm\n",
    "from scipy import stats\n",
    "import tensorflow as tf\n",
    "from pylab import rcParams\n",
    "from sklearn.model_selection import train_test_split\n",
    "from keras.models import Model, load_model\n",
    "from keras.layers import Input, Dense\n",
    "from keras.callbacks import ModelCheckpoint, TensorBoard\n",
    "from keras import regularizers\n",
    "from sklearn.preprocessing import StandardScaler\n",
    "import time"
   ]
  },
  {
   "cell_type": "code",
   "execution_count": 10,
   "id": "9c7b4748",
   "metadata": {
    "ExecuteTime": {
     "end_time": "2023-04-16T11:27:30.297949Z",
     "start_time": "2023-04-16T11:27:30.289754Z"
    }
   },
   "outputs": [],
   "source": [
    "RANDOM_SEED = 42\n",
    "LABELS = [\"Normal\", \"Fraud\"]"
   ]
  },
  {
   "cell_type": "code",
   "execution_count": 2,
   "id": "67301ea0",
   "metadata": {
    "ExecuteTime": {
     "end_time": "2023-04-16T11:24:33.271497Z",
     "start_time": "2023-04-16T11:24:33.219815Z"
    }
   },
   "outputs": [],
   "source": [
    "train_data = pd.read_csv('dataset/train_data.csv')\n",
    "test_data = pd.read_csv('dataset/test_data.csv')\n",
    "submission = pd.read_csv('dataset/answer_sample.csv')"
   ]
  },
  {
   "cell_type": "code",
   "execution_count": 3,
   "id": "7123b76e",
   "metadata": {
    "ExecuteTime": {
     "end_time": "2023-04-16T11:24:33.456392Z",
     "start_time": "2023-04-16T11:24:33.450392Z"
    }
   },
   "outputs": [],
   "source": [
    "submission['label'] = 0"
   ]
  },
  {
   "cell_type": "code",
   "execution_count": 26,
   "id": "421662ba",
   "metadata": {
    "ExecuteTime": {
     "end_time": "2023-04-16T11:49:58.140801Z",
     "start_time": "2023-04-16T11:49:58.128728Z"
    },
    "scrolled": true
   },
   "outputs": [
    {
     "data": {
      "text/html": [
       "<div>\n",
       "<style scoped>\n",
       "    .dataframe tbody tr th:only-of-type {\n",
       "        vertical-align: middle;\n",
       "    }\n",
       "\n",
       "    .dataframe tbody tr th {\n",
       "        vertical-align: top;\n",
       "    }\n",
       "\n",
       "    .dataframe thead th {\n",
       "        text-align: right;\n",
       "    }\n",
       "</style>\n",
       "<table border=\"1\" class=\"dataframe\">\n",
       "  <thead>\n",
       "    <tr style=\"text-align: right;\">\n",
       "      <th></th>\n",
       "      <th>air_inflow</th>\n",
       "      <th>air_end_temp</th>\n",
       "      <th>out_pressure</th>\n",
       "      <th>motor_current</th>\n",
       "      <th>motor_rpm</th>\n",
       "      <th>motor_temp</th>\n",
       "      <th>motor_vibe</th>\n",
       "      <th>type</th>\n",
       "    </tr>\n",
       "  </thead>\n",
       "  <tbody>\n",
       "    <tr>\n",
       "      <th>0</th>\n",
       "      <td>-0.448257</td>\n",
       "      <td>-0.917212</td>\n",
       "      <td>0.0</td>\n",
       "      <td>-0.511748</td>\n",
       "      <td>-1.007046</td>\n",
       "      <td>-0.910351</td>\n",
       "      <td>-0.910351</td>\n",
       "      <td>0</td>\n",
       "    </tr>\n",
       "    <tr>\n",
       "      <th>1</th>\n",
       "      <td>0.699749</td>\n",
       "      <td>1.178320</td>\n",
       "      <td>0.0</td>\n",
       "      <td>0.802045</td>\n",
       "      <td>1.118785</td>\n",
       "      <td>1.172883</td>\n",
       "      <td>1.172883</td>\n",
       "      <td>0</td>\n",
       "    </tr>\n",
       "    <tr>\n",
       "      <th>2</th>\n",
       "      <td>-0.182053</td>\n",
       "      <td>-0.425427</td>\n",
       "      <td>0.0</td>\n",
       "      <td>-0.202966</td>\n",
       "      <td>-0.508305</td>\n",
       "      <td>-0.421612</td>\n",
       "      <td>-0.421612</td>\n",
       "      <td>0</td>\n",
       "    </tr>\n",
       "    <tr>\n",
       "      <th>3</th>\n",
       "      <td>0.200616</td>\n",
       "      <td>0.266970</td>\n",
       "      <td>0.0</td>\n",
       "      <td>0.230799</td>\n",
       "      <td>0.194005</td>\n",
       "      <td>0.265958</td>\n",
       "      <td>0.265958</td>\n",
       "      <td>0</td>\n",
       "    </tr>\n",
       "    <tr>\n",
       "      <th>4</th>\n",
       "      <td>-0.190372</td>\n",
       "      <td>-0.434598</td>\n",
       "      <td>0.0</td>\n",
       "      <td>-0.208848</td>\n",
       "      <td>-0.517029</td>\n",
       "      <td>-0.430592</td>\n",
       "      <td>-0.430592</td>\n",
       "      <td>0</td>\n",
       "    </tr>\n",
       "    <tr>\n",
       "      <th>...</th>\n",
       "      <td>...</td>\n",
       "      <td>...</td>\n",
       "      <td>...</td>\n",
       "      <td>...</td>\n",
       "      <td>...</td>\n",
       "      <td>...</td>\n",
       "      <td>...</td>\n",
       "      <td>...</td>\n",
       "    </tr>\n",
       "    <tr>\n",
       "      <th>2458</th>\n",
       "      <td>0.125746</td>\n",
       "      <td>0.137432</td>\n",
       "      <td>0.0</td>\n",
       "      <td>0.149927</td>\n",
       "      <td>0.063140</td>\n",
       "      <td>0.137680</td>\n",
       "      <td>0.137680</td>\n",
       "      <td>7</td>\n",
       "    </tr>\n",
       "    <tr>\n",
       "      <th>2459</th>\n",
       "      <td>-0.073907</td>\n",
       "      <td>-0.236279</td>\n",
       "      <td>0.0</td>\n",
       "      <td>-0.084600</td>\n",
       "      <td>-0.316369</td>\n",
       "      <td>-0.234326</td>\n",
       "      <td>-0.234326</td>\n",
       "      <td>7</td>\n",
       "    </tr>\n",
       "    <tr>\n",
       "      <th>2460</th>\n",
       "      <td>-0.781013</td>\n",
       "      <td>-1.520194</td>\n",
       "      <td>0.0</td>\n",
       "      <td>-0.889638</td>\n",
       "      <td>-1.619204</td>\n",
       "      <td>-1.510693</td>\n",
       "      <td>-1.510693</td>\n",
       "      <td>7</td>\n",
       "    </tr>\n",
       "    <tr>\n",
       "      <th>2461</th>\n",
       "      <td>-0.764375</td>\n",
       "      <td>-1.490389</td>\n",
       "      <td>0.0</td>\n",
       "      <td>-0.871259</td>\n",
       "      <td>-1.588669</td>\n",
       "      <td>-1.481189</td>\n",
       "      <td>-1.481189</td>\n",
       "      <td>7</td>\n",
       "    </tr>\n",
       "    <tr>\n",
       "      <th>2462</th>\n",
       "      <td>0.491777</td>\n",
       "      <td>0.801170</td>\n",
       "      <td>0.0</td>\n",
       "      <td>0.566048</td>\n",
       "      <td>0.736368</td>\n",
       "      <td>0.798312</td>\n",
       "      <td>0.798312</td>\n",
       "      <td>7</td>\n",
       "    </tr>\n",
       "  </tbody>\n",
       "</table>\n",
       "<p>2463 rows × 8 columns</p>\n",
       "</div>"
      ],
      "text/plain": [
       "      air_inflow  air_end_temp  out_pressure  motor_current  motor_rpm  \\\n",
       "0      -0.448257     -0.917212           0.0      -0.511748  -1.007046   \n",
       "1       0.699749      1.178320           0.0       0.802045   1.118785   \n",
       "2      -0.182053     -0.425427           0.0      -0.202966  -0.508305   \n",
       "3       0.200616      0.266970           0.0       0.230799   0.194005   \n",
       "4      -0.190372     -0.434598           0.0      -0.208848  -0.517029   \n",
       "...          ...           ...           ...            ...        ...   \n",
       "2458    0.125746      0.137432           0.0       0.149927   0.063140   \n",
       "2459   -0.073907     -0.236279           0.0      -0.084600  -0.316369   \n",
       "2460   -0.781013     -1.520194           0.0      -0.889638  -1.619204   \n",
       "2461   -0.764375     -1.490389           0.0      -0.871259  -1.588669   \n",
       "2462    0.491777      0.801170           0.0       0.566048   0.736368   \n",
       "\n",
       "      motor_temp  motor_vibe  type  \n",
       "0      -0.910351   -0.910351     0  \n",
       "1       1.172883    1.172883     0  \n",
       "2      -0.421612   -0.421612     0  \n",
       "3       0.265958    0.265958     0  \n",
       "4      -0.430592   -0.430592     0  \n",
       "...          ...         ...   ...  \n",
       "2458    0.137680    0.137680     7  \n",
       "2459   -0.234326   -0.234326     7  \n",
       "2460   -1.510693   -1.510693     7  \n",
       "2461   -1.481189   -1.481189     7  \n",
       "2462    0.798312    0.798312     7  \n",
       "\n",
       "[2463 rows x 8 columns]"
      ]
     },
     "execution_count": 26,
     "metadata": {},
     "output_type": "execute_result"
    }
   ],
   "source": [
    "train_data"
   ]
  },
  {
   "cell_type": "code",
   "execution_count": 4,
   "id": "b03bf444",
   "metadata": {
    "ExecuteTime": {
     "end_time": "2023-04-16T11:24:33.851122Z",
     "start_time": "2023-04-16T11:24:33.832688Z"
    }
   },
   "outputs": [
    {
     "data": {
      "text/plain": [
       "(2463, 8)"
      ]
     },
     "execution_count": 4,
     "metadata": {},
     "output_type": "execute_result"
    }
   ],
   "source": [
    "train_data.shape"
   ]
  },
  {
   "cell_type": "code",
   "execution_count": 5,
   "id": "01b15c72",
   "metadata": {
    "ExecuteTime": {
     "end_time": "2023-04-16T11:24:35.742868Z",
     "start_time": "2023-04-16T11:24:35.724341Z"
    },
    "scrolled": true
   },
   "outputs": [
    {
     "data": {
      "text/html": [
       "<div>\n",
       "<style scoped>\n",
       "    .dataframe tbody tr th:only-of-type {\n",
       "        vertical-align: middle;\n",
       "    }\n",
       "\n",
       "    .dataframe tbody tr th {\n",
       "        vertical-align: top;\n",
       "    }\n",
       "\n",
       "    .dataframe thead th {\n",
       "        text-align: right;\n",
       "    }\n",
       "</style>\n",
       "<table border=\"1\" class=\"dataframe\">\n",
       "  <thead>\n",
       "    <tr style=\"text-align: right;\">\n",
       "      <th></th>\n",
       "      <th>air_inflow</th>\n",
       "      <th>air_end_temp</th>\n",
       "      <th>out_pressure</th>\n",
       "      <th>motor_current</th>\n",
       "      <th>motor_rpm</th>\n",
       "      <th>motor_temp</th>\n",
       "      <th>motor_vibe</th>\n",
       "      <th>type</th>\n",
       "    </tr>\n",
       "  </thead>\n",
       "  <tbody>\n",
       "    <tr>\n",
       "      <th>0</th>\n",
       "      <td>1.59</td>\n",
       "      <td>41.00</td>\n",
       "      <td>0.7</td>\n",
       "      <td>20.53</td>\n",
       "      <td>1680.0</td>\n",
       "      <td>58.67</td>\n",
       "      <td>2.93</td>\n",
       "      <td>0</td>\n",
       "    </tr>\n",
       "    <tr>\n",
       "      <th>1</th>\n",
       "      <td>2.97</td>\n",
       "      <td>59.28</td>\n",
       "      <td>0.7</td>\n",
       "      <td>38.40</td>\n",
       "      <td>3142.0</td>\n",
       "      <td>74.91</td>\n",
       "      <td>3.75</td>\n",
       "      <td>0</td>\n",
       "    </tr>\n",
       "    <tr>\n",
       "      <th>2</th>\n",
       "      <td>1.91</td>\n",
       "      <td>45.29</td>\n",
       "      <td>0.7</td>\n",
       "      <td>24.73</td>\n",
       "      <td>2023.0</td>\n",
       "      <td>62.48</td>\n",
       "      <td>3.12</td>\n",
       "      <td>0</td>\n",
       "    </tr>\n",
       "    <tr>\n",
       "      <th>3</th>\n",
       "      <td>2.37</td>\n",
       "      <td>51.33</td>\n",
       "      <td>0.7</td>\n",
       "      <td>30.63</td>\n",
       "      <td>2506.0</td>\n",
       "      <td>67.84</td>\n",
       "      <td>3.39</td>\n",
       "      <td>0</td>\n",
       "    </tr>\n",
       "    <tr>\n",
       "      <th>4</th>\n",
       "      <td>1.90</td>\n",
       "      <td>45.21</td>\n",
       "      <td>0.7</td>\n",
       "      <td>24.65</td>\n",
       "      <td>2017.0</td>\n",
       "      <td>62.41</td>\n",
       "      <td>3.12</td>\n",
       "      <td>0</td>\n",
       "    </tr>\n",
       "    <tr>\n",
       "      <th>...</th>\n",
       "      <td>...</td>\n",
       "      <td>...</td>\n",
       "      <td>...</td>\n",
       "      <td>...</td>\n",
       "      <td>...</td>\n",
       "      <td>...</td>\n",
       "      <td>...</td>\n",
       "      <td>...</td>\n",
       "    </tr>\n",
       "    <tr>\n",
       "      <th>2458</th>\n",
       "      <td>2.28</td>\n",
       "      <td>50.20</td>\n",
       "      <td>0.7</td>\n",
       "      <td>29.53</td>\n",
       "      <td>2416.0</td>\n",
       "      <td>66.84</td>\n",
       "      <td>3.34</td>\n",
       "      <td>7</td>\n",
       "    </tr>\n",
       "    <tr>\n",
       "      <th>2459</th>\n",
       "      <td>2.04</td>\n",
       "      <td>46.94</td>\n",
       "      <td>0.7</td>\n",
       "      <td>26.34</td>\n",
       "      <td>2155.0</td>\n",
       "      <td>63.94</td>\n",
       "      <td>3.20</td>\n",
       "      <td>7</td>\n",
       "    </tr>\n",
       "    <tr>\n",
       "      <th>2460</th>\n",
       "      <td>1.19</td>\n",
       "      <td>35.74</td>\n",
       "      <td>0.7</td>\n",
       "      <td>15.39</td>\n",
       "      <td>1259.0</td>\n",
       "      <td>53.99</td>\n",
       "      <td>2.70</td>\n",
       "      <td>7</td>\n",
       "    </tr>\n",
       "    <tr>\n",
       "      <th>2461</th>\n",
       "      <td>1.21</td>\n",
       "      <td>36.00</td>\n",
       "      <td>0.7</td>\n",
       "      <td>15.64</td>\n",
       "      <td>1280.0</td>\n",
       "      <td>54.22</td>\n",
       "      <td>2.71</td>\n",
       "      <td>7</td>\n",
       "    </tr>\n",
       "    <tr>\n",
       "      <th>2462</th>\n",
       "      <td>2.72</td>\n",
       "      <td>55.99</td>\n",
       "      <td>0.7</td>\n",
       "      <td>35.19</td>\n",
       "      <td>2879.0</td>\n",
       "      <td>71.99</td>\n",
       "      <td>3.60</td>\n",
       "      <td>7</td>\n",
       "    </tr>\n",
       "  </tbody>\n",
       "</table>\n",
       "<p>2463 rows × 8 columns</p>\n",
       "</div>"
      ],
      "text/plain": [
       "      air_inflow  air_end_temp  out_pressure  motor_current  motor_rpm  \\\n",
       "0           1.59         41.00           0.7          20.53     1680.0   \n",
       "1           2.97         59.28           0.7          38.40     3142.0   \n",
       "2           1.91         45.29           0.7          24.73     2023.0   \n",
       "3           2.37         51.33           0.7          30.63     2506.0   \n",
       "4           1.90         45.21           0.7          24.65     2017.0   \n",
       "...          ...           ...           ...            ...        ...   \n",
       "2458        2.28         50.20           0.7          29.53     2416.0   \n",
       "2459        2.04         46.94           0.7          26.34     2155.0   \n",
       "2460        1.19         35.74           0.7          15.39     1259.0   \n",
       "2461        1.21         36.00           0.7          15.64     1280.0   \n",
       "2462        2.72         55.99           0.7          35.19     2879.0   \n",
       "\n",
       "      motor_temp  motor_vibe  type  \n",
       "0          58.67        2.93     0  \n",
       "1          74.91        3.75     0  \n",
       "2          62.48        3.12     0  \n",
       "3          67.84        3.39     0  \n",
       "4          62.41        3.12     0  \n",
       "...          ...         ...   ...  \n",
       "2458       66.84        3.34     7  \n",
       "2459       63.94        3.20     7  \n",
       "2460       53.99        2.70     7  \n",
       "2461       54.22        2.71     7  \n",
       "2462       71.99        3.60     7  \n",
       "\n",
       "[2463 rows x 8 columns]"
      ]
     },
     "execution_count": 5,
     "metadata": {},
     "output_type": "execute_result"
    }
   ],
   "source": [
    "train_data"
   ]
  },
  {
   "cell_type": "code",
   "execution_count": 27,
   "id": "8c9f7d18",
   "metadata": {
    "ExecuteTime": {
     "end_time": "2023-04-16T11:50:28.171296Z",
     "start_time": "2023-04-16T11:50:28.166753Z"
    }
   },
   "outputs": [],
   "source": [
    "# TAG_MIN = train_data.min()\n",
    "# TAG_MAX = train_data.max()"
   ]
  },
  {
   "cell_type": "code",
   "execution_count": 121,
   "id": "90ae443e",
   "metadata": {
    "ExecuteTime": {
     "end_time": "2023-04-16T12:34:59.977891Z",
     "start_time": "2023-04-16T12:34:59.968889Z"
    }
   },
   "outputs": [],
   "source": [
    "def normalize(df):\n",
    "    ndf = df.copy()\n",
    "    TAG_MIN = df.min()\n",
    "    TAG_MAX = df.max()\n",
    "    for c in df.columns:\n",
    "        if TAG_MIN[c] == TAG_MAX[c]:\n",
    "            ndf[c] = df[c] - TAG_MIN[c]\n",
    "        else:\n",
    "            ndf[c] = (df[c] - TAG_MIN[c]) / (TAG_MAX[c] - TAG_MIN[c])\n",
    "    return ndf"
   ]
  },
  {
   "cell_type": "code",
   "execution_count": 124,
   "id": "144ca678",
   "metadata": {
    "ExecuteTime": {
     "end_time": "2023-04-16T12:35:57.086356Z",
     "start_time": "2023-04-16T12:35:57.058956Z"
    },
    "scrolled": true
   },
   "outputs": [
    {
     "data": {
      "text/html": [
       "<div>\n",
       "<style scoped>\n",
       "    .dataframe tbody tr th:only-of-type {\n",
       "        vertical-align: middle;\n",
       "    }\n",
       "\n",
       "    .dataframe tbody tr th {\n",
       "        vertical-align: top;\n",
       "    }\n",
       "\n",
       "    .dataframe thead th {\n",
       "        text-align: right;\n",
       "    }\n",
       "</style>\n",
       "<table border=\"1\" class=\"dataframe\">\n",
       "  <thead>\n",
       "    <tr style=\"text-align: right;\">\n",
       "      <th></th>\n",
       "      <th>air_inflow</th>\n",
       "      <th>air_end_temp</th>\n",
       "      <th>out_pressure</th>\n",
       "      <th>motor_current</th>\n",
       "      <th>motor_rpm</th>\n",
       "      <th>motor_temp</th>\n",
       "      <th>motor_vibe</th>\n",
       "    </tr>\n",
       "  </thead>\n",
       "  <tbody>\n",
       "    <tr>\n",
       "      <th>432</th>\n",
       "      <td>0.698630</td>\n",
       "      <td>0.726583</td>\n",
       "      <td>0.0</td>\n",
       "      <td>0.716376</td>\n",
       "      <td>0.751492</td>\n",
       "      <td>0.723679</td>\n",
       "      <td>0.723679</td>\n",
       "    </tr>\n",
       "    <tr>\n",
       "      <th>433</th>\n",
       "      <td>0.410959</td>\n",
       "      <td>0.426121</td>\n",
       "      <td>0.0</td>\n",
       "      <td>0.420009</td>\n",
       "      <td>0.440750</td>\n",
       "      <td>0.424455</td>\n",
       "      <td>0.424455</td>\n",
       "    </tr>\n",
       "    <tr>\n",
       "      <th>434</th>\n",
       "      <td>0.424658</td>\n",
       "      <td>0.443931</td>\n",
       "      <td>0.0</td>\n",
       "      <td>0.437471</td>\n",
       "      <td>0.459079</td>\n",
       "      <td>0.442187</td>\n",
       "      <td>0.442187</td>\n",
       "    </tr>\n",
       "    <tr>\n",
       "      <th>435</th>\n",
       "      <td>0.794521</td>\n",
       "      <td>0.820251</td>\n",
       "      <td>0.0</td>\n",
       "      <td>0.808872</td>\n",
       "      <td>0.848252</td>\n",
       "      <td>0.817141</td>\n",
       "      <td>0.817141</td>\n",
       "    </tr>\n",
       "    <tr>\n",
       "      <th>436</th>\n",
       "      <td>0.664384</td>\n",
       "      <td>0.687665</td>\n",
       "      <td>0.0</td>\n",
       "      <td>0.677678</td>\n",
       "      <td>0.710997</td>\n",
       "      <td>0.684891</td>\n",
       "      <td>0.684891</td>\n",
       "    </tr>\n",
       "    <tr>\n",
       "      <th>...</th>\n",
       "      <td>...</td>\n",
       "      <td>...</td>\n",
       "      <td>...</td>\n",
       "      <td>...</td>\n",
       "      <td>...</td>\n",
       "      <td>...</td>\n",
       "      <td>...</td>\n",
       "    </tr>\n",
       "    <tr>\n",
       "      <th>796</th>\n",
       "      <td>0.006849</td>\n",
       "      <td>0.006596</td>\n",
       "      <td>0.0</td>\n",
       "      <td>0.006607</td>\n",
       "      <td>0.006820</td>\n",
       "      <td>0.006649</td>\n",
       "      <td>0.006649</td>\n",
       "    </tr>\n",
       "    <tr>\n",
       "      <th>797</th>\n",
       "      <td>0.102740</td>\n",
       "      <td>0.108179</td>\n",
       "      <td>0.0</td>\n",
       "      <td>0.106654</td>\n",
       "      <td>0.112106</td>\n",
       "      <td>0.108238</td>\n",
       "      <td>0.108238</td>\n",
       "    </tr>\n",
       "    <tr>\n",
       "      <th>798</th>\n",
       "      <td>0.082192</td>\n",
       "      <td>0.090699</td>\n",
       "      <td>0.0</td>\n",
       "      <td>0.089193</td>\n",
       "      <td>0.093777</td>\n",
       "      <td>0.090506</td>\n",
       "      <td>0.090506</td>\n",
       "    </tr>\n",
       "    <tr>\n",
       "      <th>799</th>\n",
       "      <td>0.726027</td>\n",
       "      <td>0.749340</td>\n",
       "      <td>0.0</td>\n",
       "      <td>0.738556</td>\n",
       "      <td>0.774936</td>\n",
       "      <td>0.746214</td>\n",
       "      <td>0.746214</td>\n",
       "    </tr>\n",
       "    <tr>\n",
       "      <th>800</th>\n",
       "      <td>0.095890</td>\n",
       "      <td>0.098945</td>\n",
       "      <td>0.0</td>\n",
       "      <td>0.097688</td>\n",
       "      <td>0.102302</td>\n",
       "      <td>0.098633</td>\n",
       "      <td>0.098633</td>\n",
       "    </tr>\n",
       "  </tbody>\n",
       "</table>\n",
       "<p>369 rows × 7 columns</p>\n",
       "</div>"
      ],
      "text/plain": [
       "     air_inflow  air_end_temp  out_pressure  motor_current  motor_rpm  \\\n",
       "432    0.698630      0.726583           0.0       0.716376   0.751492   \n",
       "433    0.410959      0.426121           0.0       0.420009   0.440750   \n",
       "434    0.424658      0.443931           0.0       0.437471   0.459079   \n",
       "435    0.794521      0.820251           0.0       0.808872   0.848252   \n",
       "436    0.664384      0.687665           0.0       0.677678   0.710997   \n",
       "..          ...           ...           ...            ...        ...   \n",
       "796    0.006849      0.006596           0.0       0.006607   0.006820   \n",
       "797    0.102740      0.108179           0.0       0.106654   0.112106   \n",
       "798    0.082192      0.090699           0.0       0.089193   0.093777   \n",
       "799    0.726027      0.749340           0.0       0.738556   0.774936   \n",
       "800    0.095890      0.098945           0.0       0.097688   0.102302   \n",
       "\n",
       "     motor_temp  motor_vibe  \n",
       "432    0.723679    0.723679  \n",
       "433    0.424455    0.424455  \n",
       "434    0.442187    0.442187  \n",
       "435    0.817141    0.817141  \n",
       "436    0.684891    0.684891  \n",
       "..          ...         ...  \n",
       "796    0.006649    0.006649  \n",
       "797    0.108238    0.108238  \n",
       "798    0.090506    0.090506  \n",
       "799    0.746214    0.746214  \n",
       "800    0.098633    0.098633  \n",
       "\n",
       "[369 rows x 7 columns]"
      ]
     },
     "execution_count": 124,
     "metadata": {},
     "output_type": "execute_result"
    }
   ],
   "source": [
    "train_data_nor = normalize(train_data[train_data['type']==1].drop(columns=['type']))\n",
    "train_data_nor"
   ]
  },
  {
   "cell_type": "code",
   "execution_count": 125,
   "id": "d4113a0d",
   "metadata": {
    "ExecuteTime": {
     "end_time": "2023-04-16T12:36:06.762037Z",
     "start_time": "2023-04-16T12:36:06.752995Z"
    }
   },
   "outputs": [],
   "source": [
    "def boundary_check(df):\n",
    "    x = np.array(df, dtype=np.float32)\n",
    "    print(x)\n",
    "    return np.any(x > 1.0), np.any(x < 0), np.any(np.isnan(x))"
   ]
  },
  {
   "cell_type": "code",
   "execution_count": 126,
   "id": "b359a823",
   "metadata": {
    "ExecuteTime": {
     "end_time": "2023-04-16T12:36:07.574784Z",
     "start_time": "2023-04-16T12:36:07.562215Z"
    }
   },
   "outputs": [
    {
     "name": "stdout",
     "output_type": "stream",
     "text": [
      "[[0.69863015 0.7265831  0.         ... 0.7514919  0.72367936 0.72367936]\n",
      " [0.41095892 0.42612138 0.         ... 0.4407502  0.4244551  0.4244551 ]\n",
      " [0.42465752 0.4439314  0.         ... 0.4590793  0.44218692 0.44218692]\n",
      " ...\n",
      " [0.08219178 0.09069921 0.         ... 0.09377664 0.09050609 0.09050609]\n",
      " [0.72602737 0.74934036 0.         ... 0.7749361  0.7462135  0.7462135 ]\n",
      " [0.09589041 0.09894459 0.         ... 0.10230179 0.09863317 0.09863317]]\n"
     ]
    },
    {
     "data": {
      "text/plain": [
       "(False, False, False)"
      ]
     },
     "execution_count": 126,
     "metadata": {},
     "output_type": "execute_result"
    }
   ],
   "source": [
    "boundary_check(train_data_nor)"
   ]
  },
  {
   "cell_type": "code",
   "execution_count": 127,
   "id": "7f407bbc",
   "metadata": {
    "ExecuteTime": {
     "end_time": "2023-04-16T12:36:08.119722Z",
     "start_time": "2023-04-16T12:36:08.111841Z"
    }
   },
   "outputs": [],
   "source": [
    "# scaler1 = StandardScaler()\n",
    "# scaler2 = StandardScaler()\n",
    "# scaler3 = StandardScaler()\n",
    "# scaler4 = StandardScaler()\n",
    "# scaler5 = StandardScaler()\n",
    "# scaler6 = StandardScaler()\n",
    "# scaler7 = StandardScaler()\n",
    "# scaler8 = StandardScaler()\n",
    "\n",
    "# train_data['air_inflow'] = scaler1.fit_transform(train_data['air_inflow'].values.reshape(-1, 1))\n",
    "# train_data['air_end_temp'] = scaler2.fit_transform(train_data['air_end_temp'].values.reshape(-1, 1))\n",
    "# train_data['out_pressure'] = scaler3.fit_transform(train_data['out_pressure'].values.reshape(-1, 1))\n",
    "# train_data['motor_current'] = scaler4.fit_transform(train_data['motor_current'].values.reshape(-1, 1))\n",
    "# train_data['motor_rpm'] = scaler5.fit_transform(train_data['motor_rpm'].values.reshape(-1, 1))\n",
    "# train_data['motor_temp'] = scaler6.fit_transform(train_data['motor_temp'].values.reshape(-1, 1))\n",
    "# train_data['motor_vibe'] = scaler7.fit_transform(train_data['motor_temp'].values.reshape(-1, 1))"
   ]
  },
  {
   "cell_type": "code",
   "execution_count": 128,
   "id": "816b3032",
   "metadata": {
    "ExecuteTime": {
     "end_time": "2023-04-16T12:36:08.714158Z",
     "start_time": "2023-04-16T12:36:08.705103Z"
    }
   },
   "outputs": [
    {
     "data": {
      "text/plain": [
       "(258, 7)"
      ]
     },
     "execution_count": 128,
     "metadata": {},
     "output_type": "execute_result"
    }
   ],
   "source": [
    "X_train, X_test = train_test_split(train_data_nor, test_size=0.3, random_state=RANDOM_SEED)\n",
    "X_train.shape"
   ]
  },
  {
   "cell_type": "code",
   "execution_count": 151,
   "id": "f92ffcbe",
   "metadata": {
    "ExecuteTime": {
     "end_time": "2023-04-16T12:41:03.780333Z",
     "start_time": "2023-04-16T12:41:03.773834Z"
    }
   },
   "outputs": [],
   "source": [
    "from tensorflow.keras import layers"
   ]
  },
  {
   "cell_type": "code",
   "execution_count": 152,
   "id": "e6aa8831",
   "metadata": {
    "ExecuteTime": {
     "end_time": "2023-04-16T12:41:47.289391Z",
     "start_time": "2023-04-16T12:41:47.270489Z"
    }
   },
   "outputs": [
    {
     "data": {
      "text/plain": [
       "7"
      ]
     },
     "execution_count": 152,
     "metadata": {},
     "output_type": "execute_result"
    }
   ],
   "source": [
    "input_dim = X_train.shape[1]\n",
    "encoding_dim = 14\n",
    "input_layer = Input(shape=(input_dim, ))"
   ]
  },
  {
   "cell_type": "code",
   "execution_count": null,
   "id": "470c69be",
   "metadata": {},
   "outputs": [],
   "source": [
    "def conv_auto_model(x):\n",
    "    n_steps = x.shape[1]\n",
    "    n_features = x.shape[2]\n",
    "\n",
    "    keras.backend.clear_session()\n",
    "\n",
    "    model = keras.Sequential(\n",
    "        [\n",
    "            layers.Input(shape=(n_steps, n_features)),\n",
    "            layers.Conv1D(filters=512, kernel_size=64, padding='same', data_format='channels_last',\n",
    "                          dilation_rate=1, activation=\"linear\"),\n",
    "            layers.Dense(128),\n",
    "            layers.LSTM(\n",
    "                units=64, activation=\"relu\", name=\"lstm_1\", return_sequences=False\n",
    "            ),\n",
    "            layers.Dense(64),\n",
    "            layers.RepeatVector(n_steps),\n",
    "            layers.Dense(64),\n",
    "            layers.LSTM(\n",
    "                units=64, activation=\"relu\", name=\"lstm_2\", return_sequences=True\n",
    "            ),\n",
    "            layers.Dense(128),\n",
    "            layers.Conv1D(filters=512, kernel_size=64, padding='same', data_format='channels_last',\n",
    "                          dilation_rate=1, activation=\"linear\"),\n",
    "            layers.Dense()\n",
    "        ]\n",
    "    )\n",
    "    return model"
   ]
  },
  {
   "cell_type": "code",
   "execution_count": null,
   "id": "47fa9555",
   "metadata": {},
   "outputs": [],
   "source": []
  },
  {
   "cell_type": "code",
   "execution_count": null,
   "id": "b4d78e73",
   "metadata": {},
   "outputs": [],
   "source": []
  },
  {
   "cell_type": "code",
   "execution_count": 129,
   "id": "95e1ecb9",
   "metadata": {
    "ExecuteTime": {
     "end_time": "2023-04-16T12:36:14.297097Z",
     "start_time": "2023-04-16T12:36:14.247253Z"
    }
   },
   "outputs": [],
   "source": [
    "input_dim = X_train.shape[1]\n",
    "encoding_dim = 14\n",
    "input_layer = Input(shape=(input_dim, ))\n",
    "encoder = Dense(encoding_dim, activation=\"relu\",\n",
    "               activity_regularizer=regularizers.l1(10e-5))(input_layer)\n",
    "encoder = Dense(int(encoding_dim / 2), activation=\"relu\")(encoder)\n",
    "decoder = Dense(int(encoding_dim / 2), activation=\"relu\")(encoder)\n",
    "decoder = Dense(input_dim, activation=\"relu\")(decoder)\n",
    "autoencoder = Model(inputs=input_layer, outputs=decoder)"
   ]
  },
  {
   "cell_type": "code",
   "execution_count": 130,
   "id": "6ae622fc",
   "metadata": {
    "ExecuteTime": {
     "end_time": "2023-04-16T12:36:29.058654Z",
     "start_time": "2023-04-16T12:36:18.623531Z"
    },
    "scrolled": true
   },
   "outputs": [
    {
     "name": "stdout",
     "output_type": "stream",
     "text": [
      "Epoch 1/200\n",
      "9/9 [==============================] - 1s 20ms/step - loss: 0.2260 - accuracy: 0.1202 - val_loss: 0.2318 - val_accuracy: 0.1802\n",
      "Epoch 2/200\n",
      "9/9 [==============================] - 0s 6ms/step - loss: 0.2096 - accuracy: 0.1550 - val_loss: 0.2127 - val_accuracy: 0.2342\n",
      "Epoch 3/200\n",
      "9/9 [==============================] - 0s 6ms/step - loss: 0.1906 - accuracy: 0.3217 - val_loss: 0.1921 - val_accuracy: 0.5676\n",
      "Epoch 4/200\n",
      "9/9 [==============================] - 0s 6ms/step - loss: 0.1713 - accuracy: 0.8062 - val_loss: 0.1724 - val_accuracy: 0.8739\n",
      "Epoch 5/200\n",
      "9/9 [==============================] - 0s 7ms/step - loss: 0.1532 - accuracy: 0.8566 - val_loss: 0.1548 - val_accuracy: 0.8739\n",
      "Epoch 6/200\n",
      "9/9 [==============================] - 0s 7ms/step - loss: 0.1384 - accuracy: 0.8527 - val_loss: 0.1396 - val_accuracy: 0.8198\n",
      "Epoch 7/200\n",
      "9/9 [==============================] - 0s 7ms/step - loss: 0.1252 - accuracy: 0.7713 - val_loss: 0.1269 - val_accuracy: 0.6486\n",
      "Epoch 8/200\n",
      "9/9 [==============================] - 0s 6ms/step - loss: 0.1134 - accuracy: 0.2171 - val_loss: 0.1126 - val_accuracy: 0.1171\n",
      "Epoch 9/200\n",
      "9/9 [==============================] - 0s 6ms/step - loss: 0.0988 - accuracy: 0.1163 - val_loss: 0.0967 - val_accuracy: 0.1171\n",
      "Epoch 10/200\n",
      "9/9 [==============================] - 0s 6ms/step - loss: 0.0851 - accuracy: 0.1163 - val_loss: 0.0839 - val_accuracy: 0.1171\n",
      "Epoch 11/200\n",
      "9/9 [==============================] - 0s 6ms/step - loss: 0.0748 - accuracy: 0.1163 - val_loss: 0.0743 - val_accuracy: 0.1171\n",
      "Epoch 12/200\n",
      "9/9 [==============================] - 0s 6ms/step - loss: 0.0667 - accuracy: 0.1163 - val_loss: 0.0669 - val_accuracy: 0.1171\n",
      "Epoch 13/200\n",
      "9/9 [==============================] - 0s 6ms/step - loss: 0.0606 - accuracy: 0.1163 - val_loss: 0.0616 - val_accuracy: 0.1171\n",
      "Epoch 14/200\n",
      "9/9 [==============================] - 0s 6ms/step - loss: 0.0564 - accuracy: 0.1124 - val_loss: 0.0581 - val_accuracy: 0.0991\n",
      "Epoch 15/200\n",
      "9/9 [==============================] - 0s 6ms/step - loss: 0.0535 - accuracy: 0.1047 - val_loss: 0.0556 - val_accuracy: 0.1081\n",
      "Epoch 16/200\n",
      "9/9 [==============================] - 0s 6ms/step - loss: 0.0516 - accuracy: 0.1047 - val_loss: 0.0538 - val_accuracy: 0.0991\n",
      "Epoch 17/200\n",
      "9/9 [==============================] - 0s 6ms/step - loss: 0.0501 - accuracy: 0.0930 - val_loss: 0.0525 - val_accuracy: 0.0811\n",
      "Epoch 18/200\n",
      "9/9 [==============================] - 0s 6ms/step - loss: 0.0490 - accuracy: 0.0853 - val_loss: 0.0516 - val_accuracy: 0.0811\n",
      "Epoch 19/200\n",
      "9/9 [==============================] - 0s 6ms/step - loss: 0.0482 - accuracy: 0.0698 - val_loss: 0.0508 - val_accuracy: 0.0811\n",
      "Epoch 20/200\n",
      "9/9 [==============================] - 0s 6ms/step - loss: 0.0476 - accuracy: 0.0659 - val_loss: 0.0502 - val_accuracy: 0.0721\n",
      "Epoch 21/200\n",
      "9/9 [==============================] - 0s 6ms/step - loss: 0.0471 - accuracy: 0.0543 - val_loss: 0.0498 - val_accuracy: 0.0631\n",
      "Epoch 22/200\n",
      "9/9 [==============================] - 0s 6ms/step - loss: 0.0466 - accuracy: 0.0853 - val_loss: 0.0494 - val_accuracy: 0.2252\n",
      "Epoch 23/200\n",
      "9/9 [==============================] - 0s 6ms/step - loss: 0.0463 - accuracy: 0.2752 - val_loss: 0.0490 - val_accuracy: 0.4595\n",
      "Epoch 24/200\n",
      "9/9 [==============================] - 0s 6ms/step - loss: 0.0460 - accuracy: 0.3527 - val_loss: 0.0487 - val_accuracy: 0.4865\n",
      "Epoch 25/200\n",
      "9/9 [==============================] - 0s 7ms/step - loss: 0.0456 - accuracy: 0.3643 - val_loss: 0.0484 - val_accuracy: 0.4685\n",
      "Epoch 26/200\n",
      "9/9 [==============================] - 0s 7ms/step - loss: 0.0453 - accuracy: 0.3527 - val_loss: 0.0481 - val_accuracy: 0.4595\n",
      "Epoch 27/200\n",
      "9/9 [==============================] - 0s 6ms/step - loss: 0.0450 - accuracy: 0.3488 - val_loss: 0.0478 - val_accuracy: 0.4414\n",
      "Epoch 28/200\n",
      "9/9 [==============================] - 0s 6ms/step - loss: 0.0448 - accuracy: 0.3450 - val_loss: 0.0476 - val_accuracy: 0.4505\n",
      "Epoch 29/200\n",
      "9/9 [==============================] - 0s 6ms/step - loss: 0.0445 - accuracy: 0.3527 - val_loss: 0.0473 - val_accuracy: 0.4955\n",
      "Epoch 30/200\n",
      "9/9 [==============================] - 0s 7ms/step - loss: 0.0442 - accuracy: 0.3721 - val_loss: 0.0471 - val_accuracy: 0.4955\n",
      "Epoch 31/200\n",
      "9/9 [==============================] - 0s 6ms/step - loss: 0.0440 - accuracy: 0.3721 - val_loss: 0.0469 - val_accuracy: 0.4955\n",
      "Epoch 32/200\n",
      "9/9 [==============================] - 0s 6ms/step - loss: 0.0438 - accuracy: 0.3566 - val_loss: 0.0467 - val_accuracy: 0.4505\n",
      "Epoch 33/200\n",
      "9/9 [==============================] - 0s 6ms/step - loss: 0.0436 - accuracy: 0.3450 - val_loss: 0.0464 - val_accuracy: 0.4505\n",
      "Epoch 34/200\n",
      "9/9 [==============================] - 0s 6ms/step - loss: 0.0433 - accuracy: 0.3605 - val_loss: 0.0461 - val_accuracy: 0.5135\n",
      "Epoch 35/200\n",
      "9/9 [==============================] - 0s 6ms/step - loss: 0.0429 - accuracy: 0.3915 - val_loss: 0.0457 - val_accuracy: 0.5135\n",
      "Epoch 36/200\n",
      "9/9 [==============================] - 0s 6ms/step - loss: 0.0426 - accuracy: 0.4147 - val_loss: 0.0455 - val_accuracy: 0.5495\n",
      "Epoch 37/200\n",
      "9/9 [==============================] - 0s 6ms/step - loss: 0.0424 - accuracy: 0.4186 - val_loss: 0.0453 - val_accuracy: 0.5676\n",
      "Epoch 38/200\n",
      "9/9 [==============================] - 0s 6ms/step - loss: 0.0423 - accuracy: 0.4264 - val_loss: 0.0453 - val_accuracy: 0.5766\n",
      "Epoch 39/200\n",
      "9/9 [==============================] - 0s 6ms/step - loss: 0.0423 - accuracy: 0.4264 - val_loss: 0.0452 - val_accuracy: 0.5856\n",
      "Epoch 40/200\n",
      "9/9 [==============================] - 0s 6ms/step - loss: 0.0422 - accuracy: 0.5194 - val_loss: 0.0452 - val_accuracy: 0.7027\n",
      "Epoch 41/200\n",
      "9/9 [==============================] - 0s 7ms/step - loss: 0.0422 - accuracy: 0.7442 - val_loss: 0.0452 - val_accuracy: 0.8739\n",
      "Epoch 42/200\n",
      "9/9 [==============================] - 0s 6ms/step - loss: 0.0422 - accuracy: 0.8566 - val_loss: 0.0452 - val_accuracy: 0.8739\n",
      "Epoch 43/200\n",
      "9/9 [==============================] - 0s 6ms/step - loss: 0.0421 - accuracy: 0.8450 - val_loss: 0.0451 - val_accuracy: 0.7658\n",
      "Epoch 44/200\n",
      "9/9 [==============================] - 0s 6ms/step - loss: 0.0421 - accuracy: 0.7132 - val_loss: 0.0451 - val_accuracy: 0.7027\n",
      "Epoch 45/200\n",
      "9/9 [==============================] - 0s 6ms/step - loss: 0.0421 - accuracy: 0.6977 - val_loss: 0.0451 - val_accuracy: 0.7117\n",
      "Epoch 46/200\n",
      "9/9 [==============================] - 0s 6ms/step - loss: 0.0421 - accuracy: 0.6899 - val_loss: 0.0451 - val_accuracy: 0.6667\n",
      "Epoch 47/200\n",
      "9/9 [==============================] - 0s 7ms/step - loss: 0.0421 - accuracy: 0.6628 - val_loss: 0.0451 - val_accuracy: 0.6847\n",
      "Epoch 48/200\n",
      "9/9 [==============================] - 0s 6ms/step - loss: 0.0421 - accuracy: 0.7093 - val_loss: 0.0451 - val_accuracy: 0.7297\n",
      "Epoch 49/200\n",
      "9/9 [==============================] - 0s 6ms/step - loss: 0.0421 - accuracy: 0.7597 - val_loss: 0.0451 - val_accuracy: 0.7297\n",
      "Epoch 50/200\n",
      "9/9 [==============================] - 0s 6ms/step - loss: 0.0421 - accuracy: 0.7674 - val_loss: 0.0451 - val_accuracy: 0.7207\n",
      "Epoch 51/200\n",
      "9/9 [==============================] - 0s 6ms/step - loss: 0.0421 - accuracy: 0.7093 - val_loss: 0.0451 - val_accuracy: 0.7027\n",
      "Epoch 52/200\n",
      "9/9 [==============================] - 0s 6ms/step - loss: 0.0421 - accuracy: 0.7093 - val_loss: 0.0451 - val_accuracy: 0.7207\n",
      "Epoch 53/200\n",
      "9/9 [==============================] - 0s 6ms/step - loss: 0.0421 - accuracy: 0.7248 - val_loss: 0.0451 - val_accuracy: 0.7297\n",
      "Epoch 54/200\n",
      "9/9 [==============================] - 0s 4ms/step - loss: 0.0421 - accuracy: 0.7403 - val_loss: 0.0451 - val_accuracy: 0.7027\n",
      "Epoch 55/200\n",
      "9/9 [==============================] - 0s 6ms/step - loss: 0.0421 - accuracy: 0.7171 - val_loss: 0.0451 - val_accuracy: 0.7207\n",
      "Epoch 56/200\n",
      "9/9 [==============================] - 0s 6ms/step - loss: 0.0421 - accuracy: 0.7132 - val_loss: 0.0451 - val_accuracy: 0.7117\n",
      "Epoch 57/200\n",
      "9/9 [==============================] - 0s 6ms/step - loss: 0.0421 - accuracy: 0.7248 - val_loss: 0.0451 - val_accuracy: 0.7117\n",
      "Epoch 58/200\n",
      "9/9 [==============================] - 0s 4ms/step - loss: 0.0421 - accuracy: 0.6977 - val_loss: 0.0451 - val_accuracy: 0.6847\n",
      "Epoch 59/200\n"
     ]
    },
    {
     "name": "stdout",
     "output_type": "stream",
     "text": [
      "9/9 [==============================] - 0s 6ms/step - loss: 0.0421 - accuracy: 0.7016 - val_loss: 0.0451 - val_accuracy: 0.7297\n",
      "Epoch 60/200\n",
      "9/9 [==============================] - 0s 6ms/step - loss: 0.0421 - accuracy: 0.7326 - val_loss: 0.0451 - val_accuracy: 0.7387\n",
      "Epoch 61/200\n",
      "9/9 [==============================] - 0s 6ms/step - loss: 0.0421 - accuracy: 0.7248 - val_loss: 0.0451 - val_accuracy: 0.7297\n",
      "Epoch 62/200\n",
      "9/9 [==============================] - 0s 4ms/step - loss: 0.0421 - accuracy: 0.7326 - val_loss: 0.0451 - val_accuracy: 0.6937\n",
      "Epoch 63/200\n",
      "9/9 [==============================] - 0s 4ms/step - loss: 0.0421 - accuracy: 0.7171 - val_loss: 0.0451 - val_accuracy: 0.7117\n",
      "Epoch 64/200\n",
      "9/9 [==============================] - 0s 4ms/step - loss: 0.0421 - accuracy: 0.7093 - val_loss: 0.0451 - val_accuracy: 0.7477\n",
      "Epoch 65/200\n",
      "9/9 [==============================] - 0s 4ms/step - loss: 0.0421 - accuracy: 0.7752 - val_loss: 0.0451 - val_accuracy: 0.7928\n",
      "Epoch 66/200\n",
      "9/9 [==============================] - 0s 4ms/step - loss: 0.0421 - accuracy: 0.7209 - val_loss: 0.0451 - val_accuracy: 0.7297\n",
      "Epoch 67/200\n",
      "9/9 [==============================] - 0s 6ms/step - loss: 0.0421 - accuracy: 0.7442 - val_loss: 0.0451 - val_accuracy: 0.7477\n",
      "Epoch 68/200\n",
      "9/9 [==============================] - 0s 6ms/step - loss: 0.0421 - accuracy: 0.7054 - val_loss: 0.0451 - val_accuracy: 0.6847\n",
      "Epoch 69/200\n",
      "9/9 [==============================] - 0s 6ms/step - loss: 0.0421 - accuracy: 0.6705 - val_loss: 0.0451 - val_accuracy: 0.6847\n",
      "Epoch 70/200\n",
      "9/9 [==============================] - 0s 6ms/step - loss: 0.0421 - accuracy: 0.6783 - val_loss: 0.0451 - val_accuracy: 0.6847\n",
      "Epoch 71/200\n",
      "9/9 [==============================] - 0s 6ms/step - loss: 0.0421 - accuracy: 0.7016 - val_loss: 0.0451 - val_accuracy: 0.6937\n",
      "Epoch 72/200\n",
      "9/9 [==============================] - 0s 4ms/step - loss: 0.0421 - accuracy: 0.6783 - val_loss: 0.0451 - val_accuracy: 0.6757\n",
      "Epoch 73/200\n",
      "9/9 [==============================] - 0s 6ms/step - loss: 0.0421 - accuracy: 0.6899 - val_loss: 0.0451 - val_accuracy: 0.7027\n",
      "Epoch 74/200\n",
      "9/9 [==============================] - 0s 4ms/step - loss: 0.0421 - accuracy: 0.7209 - val_loss: 0.0451 - val_accuracy: 0.7027\n",
      "Epoch 75/200\n",
      "9/9 [==============================] - 0s 6ms/step - loss: 0.0421 - accuracy: 0.7248 - val_loss: 0.0451 - val_accuracy: 0.7207\n",
      "Epoch 76/200\n",
      "9/9 [==============================] - 0s 4ms/step - loss: 0.0421 - accuracy: 0.7093 - val_loss: 0.0451 - val_accuracy: 0.6937\n",
      "Epoch 77/200\n",
      "9/9 [==============================] - 0s 4ms/step - loss: 0.0421 - accuracy: 0.6318 - val_loss: 0.0451 - val_accuracy: 0.6306\n",
      "Epoch 78/200\n",
      "9/9 [==============================] - 0s 5ms/step - loss: 0.0421 - accuracy: 0.6318 - val_loss: 0.0451 - val_accuracy: 0.6757\n",
      "Epoch 79/200\n",
      "9/9 [==============================] - 0s 6ms/step - loss: 0.0421 - accuracy: 0.6589 - val_loss: 0.0451 - val_accuracy: 0.6757\n",
      "Epoch 80/200\n",
      "9/9 [==============================] - 0s 4ms/step - loss: 0.0421 - accuracy: 0.6512 - val_loss: 0.0451 - val_accuracy: 0.6577\n",
      "Epoch 81/200\n",
      "9/9 [==============================] - 0s 4ms/step - loss: 0.0421 - accuracy: 0.6163 - val_loss: 0.0451 - val_accuracy: 0.6667\n",
      "Epoch 82/200\n",
      "9/9 [==============================] - 0s 6ms/step - loss: 0.0421 - accuracy: 0.6860 - val_loss: 0.0451 - val_accuracy: 0.8018\n",
      "Epoch 83/200\n",
      "9/9 [==============================] - 0s 4ms/step - loss: 0.0421 - accuracy: 0.7791 - val_loss: 0.0451 - val_accuracy: 0.8198\n",
      "Epoch 84/200\n",
      "9/9 [==============================] - 0s 6ms/step - loss: 0.0421 - accuracy: 0.7674 - val_loss: 0.0451 - val_accuracy: 0.7387\n",
      "Epoch 85/200\n",
      "9/9 [==============================] - 0s 4ms/step - loss: 0.0421 - accuracy: 0.7171 - val_loss: 0.0451 - val_accuracy: 0.7568\n",
      "Epoch 86/200\n",
      "9/9 [==============================] - 0s 6ms/step - loss: 0.0421 - accuracy: 0.7442 - val_loss: 0.0451 - val_accuracy: 0.7477\n",
      "Epoch 87/200\n",
      "9/9 [==============================] - 0s 6ms/step - loss: 0.0421 - accuracy: 0.7326 - val_loss: 0.0451 - val_accuracy: 0.7207\n",
      "Epoch 88/200\n",
      "9/9 [==============================] - 0s 6ms/step - loss: 0.0421 - accuracy: 0.7132 - val_loss: 0.0451 - val_accuracy: 0.6847\n",
      "Epoch 89/200\n",
      "9/9 [==============================] - 0s 6ms/step - loss: 0.0421 - accuracy: 0.7054 - val_loss: 0.0451 - val_accuracy: 0.6937\n",
      "Epoch 90/200\n",
      "9/9 [==============================] - 0s 4ms/step - loss: 0.0421 - accuracy: 0.6550 - val_loss: 0.0451 - val_accuracy: 0.6306\n",
      "Epoch 91/200\n",
      "9/9 [==============================] - 0s 6ms/step - loss: 0.0421 - accuracy: 0.6589 - val_loss: 0.0451 - val_accuracy: 0.7027\n",
      "Epoch 92/200\n",
      "9/9 [==============================] - 0s 6ms/step - loss: 0.0421 - accuracy: 0.7132 - val_loss: 0.0451 - val_accuracy: 0.7477\n",
      "Epoch 93/200\n",
      "9/9 [==============================] - 0s 6ms/step - loss: 0.0421 - accuracy: 0.7248 - val_loss: 0.0451 - val_accuracy: 0.7207\n",
      "Epoch 94/200\n",
      "9/9 [==============================] - 0s 4ms/step - loss: 0.0421 - accuracy: 0.6783 - val_loss: 0.0451 - val_accuracy: 0.6667\n",
      "Epoch 95/200\n",
      "9/9 [==============================] - 0s 4ms/step - loss: 0.0421 - accuracy: 0.6357 - val_loss: 0.0451 - val_accuracy: 0.6847\n",
      "Epoch 96/200\n",
      "9/9 [==============================] - 0s 4ms/step - loss: 0.0421 - accuracy: 0.6163 - val_loss: 0.0451 - val_accuracy: 0.6577\n",
      "Epoch 97/200\n",
      "9/9 [==============================] - 0s 4ms/step - loss: 0.0421 - accuracy: 0.6628 - val_loss: 0.0451 - val_accuracy: 0.6667\n",
      "Epoch 98/200\n",
      "9/9 [==============================] - 0s 4ms/step - loss: 0.0421 - accuracy: 0.6628 - val_loss: 0.0451 - val_accuracy: 0.6486\n",
      "Epoch 99/200\n",
      "9/9 [==============================] - 0s 4ms/step - loss: 0.0421 - accuracy: 0.5078 - val_loss: 0.0451 - val_accuracy: 0.6486\n",
      "Epoch 100/200\n",
      "9/9 [==============================] - 0s 4ms/step - loss: 0.0421 - accuracy: 0.6589 - val_loss: 0.0451 - val_accuracy: 0.8739\n",
      "Epoch 101/200\n",
      "9/9 [==============================] - 0s 4ms/step - loss: 0.0421 - accuracy: 0.7674 - val_loss: 0.0451 - val_accuracy: 0.7748\n",
      "Epoch 102/200\n",
      "9/9 [==============================] - 0s 7ms/step - loss: 0.0421 - accuracy: 0.7093 - val_loss: 0.0451 - val_accuracy: 0.7748\n",
      "Epoch 103/200\n",
      "9/9 [==============================] - 0s 6ms/step - loss: 0.0421 - accuracy: 0.6744 - val_loss: 0.0451 - val_accuracy: 0.7027\n",
      "Epoch 104/200\n",
      "9/9 [==============================] - 0s 6ms/step - loss: 0.0421 - accuracy: 0.6899 - val_loss: 0.0451 - val_accuracy: 0.7117\n",
      "Epoch 105/200\n",
      "9/9 [==============================] - 0s 7ms/step - loss: 0.0421 - accuracy: 0.7054 - val_loss: 0.0451 - val_accuracy: 0.7297\n",
      "Epoch 106/200\n",
      "9/9 [==============================] - 0s 4ms/step - loss: 0.0421 - accuracy: 0.6938 - val_loss: 0.0451 - val_accuracy: 0.6937\n",
      "Epoch 107/200\n",
      "9/9 [==============================] - 0s 4ms/step - loss: 0.0421 - accuracy: 0.5930 - val_loss: 0.0451 - val_accuracy: 0.6306\n",
      "Epoch 108/200\n",
      "9/9 [==============================] - 0s 4ms/step - loss: 0.0421 - accuracy: 0.5620 - val_loss: 0.0451 - val_accuracy: 0.6577\n",
      "Epoch 109/200\n",
      "9/9 [==============================] - 0s 4ms/step - loss: 0.0421 - accuracy: 0.6395 - val_loss: 0.0451 - val_accuracy: 0.7297\n",
      "Epoch 110/200\n",
      "9/9 [==============================] - 0s 6ms/step - loss: 0.0421 - accuracy: 0.6783 - val_loss: 0.0451 - val_accuracy: 0.6847\n",
      "Epoch 111/200\n",
      "9/9 [==============================] - 0s 6ms/step - loss: 0.0421 - accuracy: 0.6628 - val_loss: 0.0451 - val_accuracy: 0.6757\n",
      "Epoch 112/200\n",
      "9/9 [==============================] - 0s 6ms/step - loss: 0.0421 - accuracy: 0.6628 - val_loss: 0.0451 - val_accuracy: 0.6847\n",
      "Epoch 113/200\n",
      "9/9 [==============================] - 0s 4ms/step - loss: 0.0421 - accuracy: 0.6744 - val_loss: 0.0451 - val_accuracy: 0.7027\n",
      "Epoch 114/200\n",
      "9/9 [==============================] - 0s 4ms/step - loss: 0.0421 - accuracy: 0.6589 - val_loss: 0.0451 - val_accuracy: 0.7297\n",
      "Epoch 115/200\n",
      "9/9 [==============================] - 0s 4ms/step - loss: 0.0421 - accuracy: 0.6589 - val_loss: 0.0451 - val_accuracy: 0.7928\n",
      "Epoch 116/200\n",
      "9/9 [==============================] - 0s 6ms/step - loss: 0.0421 - accuracy: 0.7481 - val_loss: 0.0451 - val_accuracy: 0.8288\n",
      "Epoch 117/200\n"
     ]
    },
    {
     "name": "stdout",
     "output_type": "stream",
     "text": [
      "9/9 [==============================] - 0s 4ms/step - loss: 0.0421 - accuracy: 0.7946 - val_loss: 0.0451 - val_accuracy: 0.8198\n",
      "Epoch 118/200\n",
      "9/9 [==============================] - 0s 4ms/step - loss: 0.0421 - accuracy: 0.7016 - val_loss: 0.0451 - val_accuracy: 0.8018\n",
      "Epoch 119/200\n",
      "9/9 [==============================] - 0s 6ms/step - loss: 0.0421 - accuracy: 0.7868 - val_loss: 0.0451 - val_accuracy: 0.8649\n",
      "Epoch 120/200\n",
      "9/9 [==============================] - 0s 4ms/step - loss: 0.0421 - accuracy: 0.7519 - val_loss: 0.0451 - val_accuracy: 0.6667\n",
      "Epoch 121/200\n",
      "9/9 [==============================] - 0s 6ms/step - loss: 0.0421 - accuracy: 0.6744 - val_loss: 0.0451 - val_accuracy: 0.7387\n",
      "Epoch 122/200\n",
      "9/9 [==============================] - 0s 6ms/step - loss: 0.0421 - accuracy: 0.6667 - val_loss: 0.0451 - val_accuracy: 0.6577\n",
      "Epoch 123/200\n",
      "9/9 [==============================] - 0s 6ms/step - loss: 0.0421 - accuracy: 0.6705 - val_loss: 0.0451 - val_accuracy: 0.6757\n",
      "Epoch 124/200\n",
      "9/9 [==============================] - 0s 6ms/step - loss: 0.0421 - accuracy: 0.6667 - val_loss: 0.0451 - val_accuracy: 0.6667\n",
      "Epoch 125/200\n",
      "9/9 [==============================] - 0s 8ms/step - loss: 0.0421 - accuracy: 0.6628 - val_loss: 0.0451 - val_accuracy: 0.7027\n",
      "Epoch 126/200\n",
      "9/9 [==============================] - 0s 7ms/step - loss: 0.0421 - accuracy: 0.6744 - val_loss: 0.0451 - val_accuracy: 0.7838\n",
      "Epoch 127/200\n",
      "9/9 [==============================] - 0s 6ms/step - loss: 0.0421 - accuracy: 0.7558 - val_loss: 0.0451 - val_accuracy: 0.8018\n",
      "Epoch 128/200\n",
      "9/9 [==============================] - 0s 6ms/step - loss: 0.0421 - accuracy: 0.7829 - val_loss: 0.0451 - val_accuracy: 0.8108\n",
      "Epoch 129/200\n",
      "9/9 [==============================] - 0s 4ms/step - loss: 0.0421 - accuracy: 0.7868 - val_loss: 0.0451 - val_accuracy: 0.7838\n",
      "Epoch 130/200\n",
      "9/9 [==============================] - 0s 4ms/step - loss: 0.0421 - accuracy: 0.6977 - val_loss: 0.0451 - val_accuracy: 0.7838\n",
      "Epoch 131/200\n",
      "9/9 [==============================] - 0s 6ms/step - loss: 0.0421 - accuracy: 0.7636 - val_loss: 0.0451 - val_accuracy: 0.8018\n",
      "Epoch 132/200\n",
      "9/9 [==============================] - 0s 4ms/step - loss: 0.0421 - accuracy: 0.7054 - val_loss: 0.0451 - val_accuracy: 0.6306\n",
      "Epoch 133/200\n",
      "9/9 [==============================] - 0s 6ms/step - loss: 0.0421 - accuracy: 0.6395 - val_loss: 0.0451 - val_accuracy: 0.7117\n",
      "Epoch 134/200\n",
      "9/9 [==============================] - 0s 6ms/step - loss: 0.0421 - accuracy: 0.6899 - val_loss: 0.0451 - val_accuracy: 0.7838\n",
      "Epoch 135/200\n",
      "9/9 [==============================] - 0s 7ms/step - loss: 0.0421 - accuracy: 0.7442 - val_loss: 0.0451 - val_accuracy: 0.7658\n",
      "Epoch 136/200\n",
      "9/9 [==============================] - 0s 6ms/step - loss: 0.0421 - accuracy: 0.7326 - val_loss: 0.0451 - val_accuracy: 0.8108\n",
      "Epoch 137/200\n",
      "9/9 [==============================] - 0s 6ms/step - loss: 0.0421 - accuracy: 0.8256 - val_loss: 0.0451 - val_accuracy: 0.8649\n",
      "Epoch 138/200\n",
      "9/9 [==============================] - 0s 3ms/step - loss: 0.0421 - accuracy: 0.8295 - val_loss: 0.0451 - val_accuracy: 0.8559\n",
      "Epoch 139/200\n",
      "9/9 [==============================] - 0s 7ms/step - loss: 0.0421 - accuracy: 0.8178 - val_loss: 0.0451 - val_accuracy: 0.8198\n",
      "Epoch 140/200\n",
      "9/9 [==============================] - 0s 4ms/step - loss: 0.0421 - accuracy: 0.8140 - val_loss: 0.0451 - val_accuracy: 0.7928\n",
      "Epoch 141/200\n",
      "9/9 [==============================] - 0s 4ms/step - loss: 0.0421 - accuracy: 0.7597 - val_loss: 0.0451 - val_accuracy: 0.7838\n",
      "Epoch 142/200\n",
      "9/9 [==============================] - 0s 6ms/step - loss: 0.0421 - accuracy: 0.7791 - val_loss: 0.0451 - val_accuracy: 0.8018\n",
      "Epoch 143/200\n",
      "9/9 [==============================] - 0s 6ms/step - loss: 0.0421 - accuracy: 0.7597 - val_loss: 0.0451 - val_accuracy: 0.7838\n",
      "Epoch 144/200\n",
      "9/9 [==============================] - 0s 4ms/step - loss: 0.0421 - accuracy: 0.7713 - val_loss: 0.0451 - val_accuracy: 0.7748\n",
      "Epoch 145/200\n",
      "9/9 [==============================] - 0s 6ms/step - loss: 0.0421 - accuracy: 0.8062 - val_loss: 0.0451 - val_accuracy: 0.8108\n",
      "Epoch 146/200\n",
      "9/9 [==============================] - 0s 6ms/step - loss: 0.0421 - accuracy: 0.8140 - val_loss: 0.0451 - val_accuracy: 0.8108\n",
      "Epoch 147/200\n",
      "9/9 [==============================] - 0s 7ms/step - loss: 0.0421 - accuracy: 0.8101 - val_loss: 0.0451 - val_accuracy: 0.8108\n",
      "Epoch 148/200\n",
      "9/9 [==============================] - 0s 6ms/step - loss: 0.0421 - accuracy: 0.7558 - val_loss: 0.0451 - val_accuracy: 0.7297\n",
      "Epoch 149/200\n",
      "9/9 [==============================] - 0s 7ms/step - loss: 0.0421 - accuracy: 0.7829 - val_loss: 0.0451 - val_accuracy: 0.7658\n",
      "Epoch 150/200\n",
      "9/9 [==============================] - 0s 4ms/step - loss: 0.0421 - accuracy: 0.7171 - val_loss: 0.0451 - val_accuracy: 0.7477\n",
      "Epoch 151/200\n",
      "9/9 [==============================] - 0s 6ms/step - loss: 0.0421 - accuracy: 0.7132 - val_loss: 0.0451 - val_accuracy: 0.7928\n",
      "Epoch 152/200\n",
      "9/9 [==============================] - 0s 4ms/step - loss: 0.0421 - accuracy: 0.8217 - val_loss: 0.0451 - val_accuracy: 0.8559\n",
      "Epoch 153/200\n",
      "9/9 [==============================] - 0s 7ms/step - loss: 0.0421 - accuracy: 0.8178 - val_loss: 0.0451 - val_accuracy: 0.8378\n",
      "Epoch 154/200\n",
      "9/9 [==============================] - 0s 6ms/step - loss: 0.0421 - accuracy: 0.8140 - val_loss: 0.0451 - val_accuracy: 0.7748\n",
      "Epoch 155/200\n",
      "9/9 [==============================] - 0s 7ms/step - loss: 0.0421 - accuracy: 0.7752 - val_loss: 0.0451 - val_accuracy: 0.7477\n",
      "Epoch 156/200\n",
      "9/9 [==============================] - 0s 6ms/step - loss: 0.0421 - accuracy: 0.7713 - val_loss: 0.0451 - val_accuracy: 0.8018\n",
      "Epoch 157/200\n",
      "9/9 [==============================] - 0s 6ms/step - loss: 0.0421 - accuracy: 0.8062 - val_loss: 0.0451 - val_accuracy: 0.8108\n",
      "Epoch 158/200\n",
      "9/9 [==============================] - 0s 7ms/step - loss: 0.0421 - accuracy: 0.8101 - val_loss: 0.0451 - val_accuracy: 0.8198\n",
      "Epoch 159/200\n",
      "9/9 [==============================] - 0s 6ms/step - loss: 0.0421 - accuracy: 0.8140 - val_loss: 0.0451 - val_accuracy: 0.8018\n",
      "Epoch 160/200\n",
      "9/9 [==============================] - 0s 5ms/step - loss: 0.0421 - accuracy: 0.6705 - val_loss: 0.0451 - val_accuracy: 0.6306\n",
      "Epoch 161/200\n",
      "9/9 [==============================] - 0s 7ms/step - loss: 0.0421 - accuracy: 0.6318 - val_loss: 0.0451 - val_accuracy: 0.7297\n",
      "Epoch 162/200\n",
      "9/9 [==============================] - 0s 6ms/step - loss: 0.0421 - accuracy: 0.6124 - val_loss: 0.0451 - val_accuracy: 0.6306\n",
      "Epoch 163/200\n",
      "9/9 [==============================] - 0s 6ms/step - loss: 0.0421 - accuracy: 0.6395 - val_loss: 0.0451 - val_accuracy: 0.7117\n",
      "Epoch 164/200\n",
      "9/9 [==============================] - 0s 5ms/step - loss: 0.0421 - accuracy: 0.6240 - val_loss: 0.0451 - val_accuracy: 0.6396\n",
      "Epoch 165/200\n",
      "9/9 [==============================] - 0s 4ms/step - loss: 0.0421 - accuracy: 0.5853 - val_loss: 0.0451 - val_accuracy: 0.6396\n",
      "Epoch 166/200\n",
      "9/9 [==============================] - 0s 6ms/step - loss: 0.0421 - accuracy: 0.5930 - val_loss: 0.0451 - val_accuracy: 0.6757\n",
      "Epoch 167/200\n",
      "9/9 [==============================] - 0s 6ms/step - loss: 0.0421 - accuracy: 0.6744 - val_loss: 0.0451 - val_accuracy: 0.7748\n",
      "Epoch 168/200\n",
      "9/9 [==============================] - 0s 7ms/step - loss: 0.0421 - accuracy: 0.7752 - val_loss: 0.0451 - val_accuracy: 0.8198\n",
      "Epoch 169/200\n",
      "9/9 [==============================] - 0s 4ms/step - loss: 0.0421 - accuracy: 0.8101 - val_loss: 0.0451 - val_accuracy: 0.8018\n",
      "Epoch 170/200\n",
      "9/9 [==============================] - 0s 6ms/step - loss: 0.0421 - accuracy: 0.8062 - val_loss: 0.0451 - val_accuracy: 0.8108\n",
      "Epoch 171/200\n",
      "9/9 [==============================] - 0s 6ms/step - loss: 0.0421 - accuracy: 0.8101 - val_loss: 0.0451 - val_accuracy: 0.8378\n",
      "Epoch 172/200\n",
      "9/9 [==============================] - 0s 4ms/step - loss: 0.0421 - accuracy: 0.8101 - val_loss: 0.0451 - val_accuracy: 0.7658\n",
      "Epoch 173/200\n",
      "9/9 [==============================] - 0s 6ms/step - loss: 0.0421 - accuracy: 0.7636 - val_loss: 0.0451 - val_accuracy: 0.8018\n",
      "Epoch 174/200\n",
      "9/9 [==============================] - 0s 6ms/step - loss: 0.0421 - accuracy: 0.8062 - val_loss: 0.0451 - val_accuracy: 0.8288\n",
      "Epoch 175/200\n"
     ]
    },
    {
     "name": "stdout",
     "output_type": "stream",
     "text": [
      "9/9 [==============================] - 0s 6ms/step - loss: 0.0421 - accuracy: 0.8140 - val_loss: 0.0451 - val_accuracy: 0.8288\n",
      "Epoch 176/200\n",
      "9/9 [==============================] - 0s 5ms/step - loss: 0.0421 - accuracy: 0.7519 - val_loss: 0.0451 - val_accuracy: 0.7207\n",
      "Epoch 177/200\n",
      "9/9 [==============================] - 0s 4ms/step - loss: 0.0421 - accuracy: 0.6085 - val_loss: 0.0451 - val_accuracy: 0.6486\n",
      "Epoch 178/200\n",
      "9/9 [==============================] - 0s 6ms/step - loss: 0.0421 - accuracy: 0.6047 - val_loss: 0.0451 - val_accuracy: 0.7297\n",
      "Epoch 179/200\n",
      "9/9 [==============================] - 0s 4ms/step - loss: 0.0421 - accuracy: 0.7326 - val_loss: 0.0451 - val_accuracy: 0.7928\n",
      "Epoch 180/200\n",
      "9/9 [==============================] - 0s 6ms/step - loss: 0.0421 - accuracy: 0.8101 - val_loss: 0.0451 - val_accuracy: 0.8468\n",
      "Epoch 181/200\n",
      "9/9 [==============================] - 0s 6ms/step - loss: 0.0421 - accuracy: 0.8140 - val_loss: 0.0451 - val_accuracy: 0.8468\n",
      "Epoch 182/200\n",
      "9/9 [==============================] - 0s 6ms/step - loss: 0.0421 - accuracy: 0.8140 - val_loss: 0.0451 - val_accuracy: 0.8288\n",
      "Epoch 183/200\n",
      "9/9 [==============================] - 0s 6ms/step - loss: 0.0421 - accuracy: 0.8140 - val_loss: 0.0451 - val_accuracy: 0.8378\n",
      "Epoch 184/200\n",
      "9/9 [==============================] - 0s 6ms/step - loss: 0.0421 - accuracy: 0.7946 - val_loss: 0.0451 - val_accuracy: 0.7928\n",
      "Epoch 185/200\n",
      "9/9 [==============================] - 0s 6ms/step - loss: 0.0421 - accuracy: 0.7946 - val_loss: 0.0451 - val_accuracy: 0.7928\n",
      "Epoch 186/200\n",
      "9/9 [==============================] - 0s 4ms/step - loss: 0.0421 - accuracy: 0.7984 - val_loss: 0.0451 - val_accuracy: 0.7928\n",
      "Epoch 187/200\n",
      "9/9 [==============================] - 0s 4ms/step - loss: 0.0421 - accuracy: 0.7403 - val_loss: 0.0451 - val_accuracy: 0.8018\n",
      "Epoch 188/200\n",
      "9/9 [==============================] - 0s 4ms/step - loss: 0.0421 - accuracy: 0.8062 - val_loss: 0.0451 - val_accuracy: 0.7928\n",
      "Epoch 189/200\n",
      "9/9 [==============================] - 0s 7ms/step - loss: 0.0421 - accuracy: 0.7984 - val_loss: 0.0451 - val_accuracy: 0.8018\n",
      "Epoch 190/200\n",
      "9/9 [==============================] - 0s 6ms/step - loss: 0.0421 - accuracy: 0.7984 - val_loss: 0.0451 - val_accuracy: 0.7928\n",
      "Epoch 191/200\n",
      "9/9 [==============================] - 0s 4ms/step - loss: 0.0421 - accuracy: 0.7946 - val_loss: 0.0451 - val_accuracy: 0.7928\n",
      "Epoch 192/200\n",
      "9/9 [==============================] - 0s 4ms/step - loss: 0.0421 - accuracy: 0.7791 - val_loss: 0.0451 - val_accuracy: 0.7928\n",
      "Epoch 193/200\n",
      "9/9 [==============================] - 0s 7ms/step - loss: 0.0421 - accuracy: 0.7946 - val_loss: 0.0451 - val_accuracy: 0.8288\n",
      "Epoch 194/200\n",
      "9/9 [==============================] - 0s 4ms/step - loss: 0.0421 - accuracy: 0.8023 - val_loss: 0.0451 - val_accuracy: 0.8018\n",
      "Epoch 195/200\n",
      "9/9 [==============================] - 0s 6ms/step - loss: 0.0421 - accuracy: 0.8062 - val_loss: 0.0451 - val_accuracy: 0.7928\n",
      "Epoch 196/200\n",
      "9/9 [==============================] - 0s 6ms/step - loss: 0.0421 - accuracy: 0.8023 - val_loss: 0.0451 - val_accuracy: 0.7928\n",
      "Epoch 197/200\n",
      "9/9 [==============================] - 0s 7ms/step - loss: 0.0421 - accuracy: 0.7907 - val_loss: 0.0451 - val_accuracy: 0.7928\n",
      "Epoch 198/200\n",
      "9/9 [==============================] - 0s 6ms/step - loss: 0.0421 - accuracy: 0.7984 - val_loss: 0.0451 - val_accuracy: 0.7928\n",
      "Epoch 199/200\n",
      "9/9 [==============================] - 0s 4ms/step - loss: 0.0421 - accuracy: 0.7597 - val_loss: 0.0451 - val_accuracy: 0.6216\n",
      "Epoch 200/200\n",
      "9/9 [==============================] - 0s 4ms/step - loss: 0.0421 - accuracy: 0.5078 - val_loss: 0.0451 - val_accuracy: 0.7297\n"
     ]
    }
   ],
   "source": [
    "nb_epoch = 200\n",
    "batch_size = 32\n",
    "autoencoder.compile(optimizer='adam', \n",
    "                    loss='mean_squared_error', \n",
    "                    metrics=['accuracy'])\n",
    "checkpointer = ModelCheckpoint(filepath=\"model.h5\",\n",
    "                               verbose=0,\n",
    "                               save_best_only=True)\n",
    "tensorboard = TensorBoard(log_dir='./logs',\n",
    "                          histogram_freq=0,\n",
    "                          write_graph=True,\n",
    "                          write_images=True)\n",
    "history = autoencoder.fit(X_train, X_train,\n",
    "                    epochs=nb_epoch,\n",
    "                    batch_size=batch_size,\n",
    "                    shuffle=True,\n",
    "                    validation_data=(X_test, X_test),\n",
    "                    verbose=1,\n",
    "                    callbacks=[checkpointer, tensorboard]).history"
   ]
  },
  {
   "cell_type": "code",
   "execution_count": 131,
   "id": "eef53a03",
   "metadata": {
    "ExecuteTime": {
     "end_time": "2023-04-16T12:36:34.168439Z",
     "start_time": "2023-04-16T12:36:34.049398Z"
    },
    "scrolled": true
   },
   "outputs": [
    {
     "data": {
      "image/png": "[encoded data removed]",
      "text/plain": [
       "<Figure size 640x480 with 1 Axes>"
      ]
     },
     "metadata": {},
     "output_type": "display_data"
    }
   ],
   "source": [
    "plt.plot(history['loss'])\n",
    "plt.plot(history['val_loss'])\n",
    "plt.title('model loss')\n",
    "plt.ylabel('loss')\n",
    "plt.xlabel('epoch')\n",
    "plt.legend(['train', 'test'], loc='upper right');"
   ]
  },
  {
   "cell_type": "code",
   "execution_count": 145,
   "id": "78be3a46",
   "metadata": {
    "ExecuteTime": {
     "end_time": "2023-04-16T12:38:27.684681Z",
     "start_time": "2023-04-16T12:38:27.668681Z"
    }
   },
   "outputs": [
    {
     "name": "stdout",
     "output_type": "stream",
     "text": [
      "[[0.69863015 0.7265831  0.         ... 0.7514919  0.72367936 0.72367936]\n",
      " [0.41095892 0.42612138 0.         ... 0.4407502  0.4244551  0.4244551 ]\n",
      " [0.42465752 0.4439314  0.         ... 0.4590793  0.44218692 0.44218692]\n",
      " ...\n",
      " [0.08219178 0.09069921 0.         ... 0.09377664 0.09050609 0.09050609]\n",
      " [0.72602737 0.74934036 0.         ... 0.7749361  0.7462135  0.7462135 ]\n",
      " [0.09589041 0.09894459 0.         ... 0.10230179 0.09863317 0.09863317]]\n"
     ]
    },
    {
     "data": {
      "text/plain": [
       "(False, False, False)"
      ]
     },
     "execution_count": 145,
     "metadata": {},
     "output_type": "execute_result"
    }
   ],
   "source": [
    "test_data_nor = normalize(train_data[train_data['type']==1].drop(columns=['type']))\n",
    "boundary_check(test_data_nor)"
   ]
  },
  {
   "cell_type": "code",
   "execution_count": 146,
   "id": "02380829",
   "metadata": {
    "ExecuteTime": {
     "end_time": "2023-04-16T12:38:29.143765Z",
     "start_time": "2023-04-16T12:38:28.976165Z"
    }
   },
   "outputs": [
    {
     "data": {
      "text/plain": [
       "<AxesSubplot:>"
      ]
     },
     "execution_count": 146,
     "metadata": {},
     "output_type": "execute_result"
    },
    {
     "data": {
      "image/png": "[encoded data removed]",
      "text/plain": [
       "<Figure size 640x480 with 1 Axes>"
      ]
     },
     "metadata": {},
     "output_type": "display_data"
    }
   ],
   "source": [
    "test_data_nor.plot()"
   ]
  },
  {
   "cell_type": "code",
   "execution_count": 147,
   "id": "1e7ad871",
   "metadata": {
    "ExecuteTime": {
     "end_time": "2023-04-16T12:38:32.817370Z",
     "start_time": "2023-04-16T12:38:32.807495Z"
    }
   },
   "outputs": [
    {
     "data": {
      "text/plain": [
       "(369, 7)"
      ]
     },
     "execution_count": 147,
     "metadata": {},
     "output_type": "execute_result"
    }
   ],
   "source": [
    "x_val = np.array(test_data_nor)\n",
    "x_val.shape"
   ]
  },
  {
   "cell_type": "code",
   "execution_count": 148,
   "id": "afcf5378",
   "metadata": {
    "ExecuteTime": {
     "end_time": "2023-04-16T12:38:42.530882Z",
     "start_time": "2023-04-16T12:38:42.464237Z"
    }
   },
   "outputs": [
    {
     "name": "stdout",
     "output_type": "stream",
     "text": [
      "12/12 [==============================] - 0s 567us/step\n",
      "(369, 7)\n",
      "(369, 7)\n",
      "(369,)\n",
      "0.05333662033081055\n"
     ]
    }
   ],
   "source": [
    "start = time.time()\n",
    "valid_x_predictions = autoencoder.predict(x_val)\n",
    "print(valid_x_predictions.shape)\n",
    "\n",
    "error = x_val - valid_x_predictions\n",
    "print((x_val - valid_x_predictions).shape)\n",
    "\n",
    "valid_mse = np.mean(np.power(x_val - valid_x_predictions, 2), axis=1)\n",
    "print(valid_mse.shape)\n",
    "print(time.time()-start)"
   ]
  },
  {
   "cell_type": "code",
   "execution_count": 149,
   "id": "ae48db75",
   "metadata": {
    "ExecuteTime": {
     "end_time": "2023-04-16T12:38:43.298992Z",
     "start_time": "2023-04-16T12:38:43.286986Z"
    }
   },
   "outputs": [
    {
     "data": {
      "text/plain": [
       "0      0.074837\n",
       "1      0.025757\n",
       "2      0.027954\n",
       "3      0.095401\n",
       "4      0.067025\n",
       "         ...   \n",
       "364    0.000038\n",
       "365    0.001679\n",
       "366    0.001177\n",
       "367    0.079560\n",
       "368    0.001394\n",
       "Name: Reconstruction_error, Length: 369, dtype: float64"
      ]
     },
     "execution_count": 149,
     "metadata": {},
     "output_type": "execute_result"
    }
   ],
   "source": [
    "error_df = pd.DataFrame({'Reconstruction_error': valid_mse})\n",
    "# fig, ax = plt.subplots(figsize=(20,20))\n",
    "error_df.Reconstruction_error"
   ]
  },
  {
   "cell_type": "code",
   "execution_count": 150,
   "id": "71136e9e",
   "metadata": {
    "ExecuteTime": {
     "end_time": "2023-04-16T12:38:44.389413Z",
     "start_time": "2023-04-16T12:38:44.183345Z"
    }
   },
   "outputs": [
    {
     "data": {
      "text/plain": [
       "Text(0.5, 0, 'Data point index')"
      ]
     },
     "execution_count": 150,
     "metadata": {},
     "output_type": "execute_result"
    },
    {
     "data": {
      "image/png": "[encoded data removed]",
      "text/plain": [
       "<Figure size 2000x2000 with 1 Axes>"
      ]
     },
     "metadata": {},
     "output_type": "display_data"
    }
   ],
   "source": [
    "error_df = pd.DataFrame({'Reconstruction_error': valid_mse})\n",
    "fig, ax = plt.subplots(figsize=(20,20))\n",
    "\n",
    "ax.plot(error_df.index, error_df.Reconstruction_error, marker='o', ms=3.5, linestyle='',\n",
    "        label= \"test_data\")\n",
    "    \n",
    "ax.hlines(0.5, ax.get_xlim()[0], ax.get_xlim()[1], colors=\"r\", zorder=100, label='Threshold')\n",
    "ax.legend()\n",
    "\n",
    "plt.title(\"Reconstruction error for different classes\")\n",
    "plt.ylabel(\"Reconstruction error\")\n",
    "plt.xlabel(\"Data point index\")"
   ]
  },
  {
   "cell_type": "code",
   "execution_count": 120,
   "id": "d4b3f110",
   "metadata": {
    "ExecuteTime": {
     "end_time": "2023-04-16T12:32:50.334142Z",
     "start_time": "2023-04-16T12:32:50.312996Z"
    }
   },
   "outputs": [
    {
     "data": {
      "text/plain": [
       "0    1296\n",
       "1    1107\n",
       "2    1098\n",
       "3     918\n",
       "4     918\n",
       "5     747\n",
       "6     747\n",
       "7     558\n",
       "Name: type, dtype: int64"
      ]
     },
     "execution_count": 120,
     "metadata": {},
     "output_type": "execute_result"
    }
   ],
   "source": [
    "test_data['type'].value_counts()"
   ]
  }
 ],
 "metadata": {
  "kernelspec": {
   "display_name": "Python 3 (ipykernel)",
   "language": "python",
   "name": "python3"
  },
  "language_info": {
   "codemirror_mode": {
    "name": "ipython",
    "version": 3
   },
   "file_extension": ".py",
   "mimetype": "text/x-python",
   "name": "python",
   "nbconvert_exporter": "python",
   "pygments_lexer": "ipython3",
   "version": "3.9.13"
  },
  "toc": {
   "base_numbering": 1,
   "nav_menu": {},
   "number_sections": true,
   "sideBar": true,
   "skip_h1_title": false,
   "title_cell": "Table of Contents",
   "title_sidebar": "Contents",
   "toc_cell": false,
   "toc_position": {},
   "toc_section_display": true,
   "toc_window_display": false
  },
  "varInspector": {
   "cols": {
    "lenName": 16,
    "lenType": 16,
    "lenVar": 40
   },
   "kernels_config": {
    "python": {
     "delete_cmd_postfix": "",
     "delete_cmd_prefix": "del ",
     "library": "var_list.py",
     "varRefreshCmd": "print(var_dic_list())"
    },
    "r": {
     "delete_cmd_postfix": ") ",
     "delete_cmd_prefix": "rm(",
     "library": "var_list.r",
     "varRefreshCmd": "cat(var_dic_list()) "
    }
   },
   "types_to_exclude": [
    "module",
    "function",
    "builtin_function_or_method",
    "instance",
    "_Feature"
   ],
   "window_display": false
  }
 },
 "nbformat": 4,
 "nbformat_minor": 5
}
